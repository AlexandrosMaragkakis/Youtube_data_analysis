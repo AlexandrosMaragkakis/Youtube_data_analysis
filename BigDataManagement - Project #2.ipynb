{
 "cells": [
  {
   "cell_type": "markdown",
   "id": "faf76b21",
   "metadata": {},
   "source": [
    "Preprocess archive.zip"
   ]
  },
  {
   "cell_type": "code",
   "execution_count": null,
   "id": "bd649d57",
   "metadata": {
    "scrolled": true
   },
   "outputs": [],
   "source": [
    "!python3 preprocess.py"
   ]
  },
  {
   "cell_type": "markdown",
   "id": "1b2b13be",
   "metadata": {},
   "source": [
    "Import libraries"
   ]
  },
  {
   "cell_type": "code",
   "execution_count": 14,
   "id": "36a36158",
   "metadata": {},
   "outputs": [],
   "source": [
    "import pymongo\n",
    "import json\n",
    "import os\n",
    "import matplotlib.pyplot as plt\n",
    "from matplotlib import dates as mdates"
   ]
  },
  {
   "cell_type": "markdown",
   "id": "a81b1533",
   "metadata": {},
   "source": [
    "Connect to MongoDB"
   ]
  },
  {
   "cell_type": "code",
   "execution_count": 15,
   "id": "5eba92e0",
   "metadata": {
    "scrolled": false
   },
   "outputs": [],
   "source": [
    "client = pymongo.MongoClient(\"localhost\", 27017)"
   ]
  },
  {
   "cell_type": "markdown",
   "id": "f36756d9",
   "metadata": {},
   "source": [
    "Create database and collections"
   ]
  },
  {
   "cell_type": "code",
   "execution_count": 16,
   "id": "25a0f7fa",
   "metadata": {},
   "outputs": [],
   "source": [
    "db = client[\"my_db\"]\n",
    "collection_cat = db['youtube_categories']\n",
    "collection_vids = db['videos_data']"
   ]
  },
  {
   "cell_type": "markdown",
   "id": "7c434947",
   "metadata": {},
   "source": [
    "Insert json files to collections"
   ]
  },
  {
   "cell_type": "code",
   "execution_count": null,
   "id": "6a32800a",
   "metadata": {
    "scrolled": true
   },
   "outputs": [],
   "source": [
    "# Iterate through the json files in the \"data\" directory\n",
    "for filename in os.listdir(\"data/\"):\n",
    "    print(f'Inserting {filename}...')\n",
    "    filename = 'data/' + filename\n",
    "    with open(filename, 'r') as f:\n",
    "        data = json.load(f)\n",
    "    if 'category' in filename:\n",
    "\n",
    "        collection_cat.insert_many(data[\"items\"])\n",
    "        \n",
    "    else:\n",
    "        # Insert the json documents into the collection\n",
    "        \n",
    "        collection_vids.insert_many(data)\n",
    "\n",
    "print(\"Done.\")"
   ]
  },
  {
   "cell_type": "markdown",
   "id": "661191b6",
   "metadata": {},
   "source": [
    "Task 1: "
   ]
  },
  {
   "cell_type": "code",
   "execution_count": null,
   "id": "9f0f010a",
   "metadata": {},
   "outputs": [],
   "source": []
  },
  {
   "cell_type": "markdown",
   "id": "86b0317c",
   "metadata": {},
   "source": [
    "Task 2:"
   ]
  },
  {
   "cell_type": "code",
   "execution_count": null,
   "id": "e0970432",
   "metadata": {},
   "outputs": [],
   "source": []
  },
  {
   "cell_type": "markdown",
   "id": "52007e83",
   "metadata": {},
   "source": [
    "Task 3:"
   ]
  },
  {
   "cell_type": "code",
   "execution_count": null,
   "id": "9c7503b0",
   "metadata": {},
   "outputs": [],
   "source": []
  },
  {
   "cell_type": "markdown",
   "id": "a830f6a6",
   "metadata": {},
   "source": [
    "Task 4:"
   ]
  },
  {
   "cell_type": "code",
   "execution_count": null,
   "id": "7516e34a",
   "metadata": {},
   "outputs": [],
   "source": []
  },
  {
   "cell_type": "markdown",
   "id": "c5434c21",
   "metadata": {},
   "source": [
    "Task 5:"
   ]
  },
  {
   "cell_type": "code",
   "execution_count": null,
   "id": "a2301254",
   "metadata": {},
   "outputs": [],
   "source": []
  },
  {
   "attachments": {},
   "cell_type": "markdown",
   "id": "29c55978",
   "metadata": {},
   "source": [
    "Task 6: # video_id and title in 1st projection not needed?"
   ]
  },
  {
   "cell_type": "code",
   "execution_count": 17,
   "id": "4bd7e299",
   "metadata": {},
   "outputs": [
    {
     "data": {
      "image/png": "[encoded data removed]",
      "text/plain": [
       "<Figure size 640x480 with 1 Axes>"
      ]
     },
     "metadata": {},
     "output_type": "display_data"
    }
   ],
   "source": [
    "result = client['my_db']['videos_data'].aggregate([\n",
    "    {\n",
    "        '$match': {\n",
    "            'country': 'GB'\n",
    "        }\n",
    "    }, {\n",
    "        '$project': {\n",
    "            'date': {\n",
    "                '$dateToString': {\n",
    "                    'format': '%Y-%m-%d', \n",
    "                    'date': {\n",
    "                        '$convert': {\n",
    "                            'input': '$publishedAt', \n",
    "                            'to': 'date'\n",
    "                        }\n",
    "                    }\n",
    "                }\n",
    "            }, \n",
    "            'country': 'GB'\n",
    "        }\n",
    "    }, {\n",
    "        '$match': {\n",
    "            'date': {\n",
    "                '$gte': '2022-09-01'\n",
    "            }\n",
    "        }\n",
    "    }, {\n",
    "        '$group': {\n",
    "            '_id': '$date', \n",
    "            'count': {\n",
    "                '$sum': 1\n",
    "            }\n",
    "        }\n",
    "    }, {\n",
    "        '$sort': {\n",
    "            '_id': 1\n",
    "        }\n",
    "    }, {\n",
    "        '$project': {\n",
    "            'date': '$_id', \n",
    "            'count': 1, \n",
    "            '_id': 0\n",
    "        }\n",
    "    }\n",
    "])\n",
    "\n",
    "# 'result' is an iterator object!\n",
    "x_values = []\n",
    "y_values = []\n",
    "for item in result:\n",
    "    x_values.append(item['date'])\n",
    "    y_values.append(item['count'])\n",
    "\n",
    "plt.scatter(x_values, y_values)\n",
    "plt.gca().xaxis.set_major_locator(mdates.MonthLocator())\n",
    "plt.xlabel('Dates')\n",
    "plt.ylabel('Count')\n",
    "plt.show()"
   ]
  }
 ],
 "metadata": {
  "kernelspec": {
   "display_name": "Python 3 (ipykernel)",
   "language": "python",
   "name": "python3"
  },
  "language_info": {
   "codemirror_mode": {
    "name": "ipython",
    "version": 3
   },
   "file_extension": ".py",
   "mimetype": "text/x-python",
   "name": "python",
   "nbconvert_exporter": "python",
   "pygments_lexer": "ipython3",
   "version": "3.10.6"
  },
  "vscode": {
   "interpreter": {
    "hash": "d7372e2638d368e7ca388c91a516c57d92b5e16d0331d6ca20d2c9eb8fa84297"
   }
  }
 },
 "nbformat": 4,
 "nbformat_minor": 5
}
